{
 "cells": [
  {
   "cell_type": "code",
   "execution_count": 1,
   "metadata": {},
   "outputs": [],
   "source": [
    "#Import the necessary packages for the project"
   ]
  },
  {
   "cell_type": "code",
   "execution_count": 15,
   "metadata": {},
   "outputs": [
    {
     "name": "stderr",
     "output_type": "stream",
     "text": [
      "[nltk_data] Downloading package punkt to\n",
      "[nltk_data]     C:\\Users\\rahes\\AppData\\Roaming\\nltk_data...\n",
      "[nltk_data]   Package punkt is already up-to-date!\n"
     ]
    },
    {
     "data": {
      "text/plain": [
       "True"
      ]
     },
     "execution_count": 15,
     "metadata": {},
     "output_type": "execute_result"
    }
   ],
   "source": [
    "import numpy as np\n",
    "import pandas as pd\n",
    "from nltk.tokenize import word_tokenize\n",
    "import nltk\n",
    "nltk.download('punkt')"
   ]
  },
  {
   "cell_type": "code",
   "execution_count": 2,
   "metadata": {},
   "outputs": [],
   "source": [
    "#Read the data_in.csv file for the project"
   ]
  },
  {
   "cell_type": "code",
   "execution_count": 16,
   "metadata": {},
   "outputs": [],
   "source": [
    "df=pd.read_csv('data_in.csv')"
   ]
  },
  {
   "cell_type": "code",
   "execution_count": 17,
   "metadata": {},
   "outputs": [
    {
     "data": {
      "text/html": [
       "<div>\n",
       "<style scoped>\n",
       "    .dataframe tbody tr th:only-of-type {\n",
       "        vertical-align: middle;\n",
       "    }\n",
       "\n",
       "    .dataframe tbody tr th {\n",
       "        vertical-align: top;\n",
       "    }\n",
       "\n",
       "    .dataframe thead th {\n",
       "        text-align: right;\n",
       "    }\n",
       "</style>\n",
       "<table border=\"1\" class=\"dataframe\">\n",
       "  <thead>\n",
       "    <tr style=\"text-align: right;\">\n",
       "      <th></th>\n",
       "      <th>Comment</th>\n",
       "    </tr>\n",
       "  </thead>\n",
       "  <tbody>\n",
       "    <tr>\n",
       "      <th>0</th>\n",
       "      <td>\"Hello there, how are you? Weather is awesome....</td>\n",
       "    </tr>\n",
       "    <tr>\n",
       "      <th>1</th>\n",
       "      <td>\"Hello Mr. Raja, how are you? Weather is aweso...</td>\n",
       "    </tr>\n",
       "    <tr>\n",
       "      <th>2</th>\n",
       "      <td>\"Hello Mr. Raja, how are you. Weather is bad. ...</td>\n",
       "    </tr>\n",
       "    <tr>\n",
       "      <th>3</th>\n",
       "      <td>\"NLP is great technique. It is nice to learn t...</td>\n",
       "    </tr>\n",
       "    <tr>\n",
       "      <th>4</th>\n",
       "      <td>\"AI is making difference in this world now.  I...</td>\n",
       "    </tr>\n",
       "  </tbody>\n",
       "</table>\n",
       "</div>"
      ],
      "text/plain": [
       "                                             Comment\n",
       "0  \"Hello there, how are you? Weather is awesome....\n",
       "1  \"Hello Mr. Raja, how are you? Weather is aweso...\n",
       "2  \"Hello Mr. Raja, how are you. Weather is bad. ...\n",
       "3  \"NLP is great technique. It is nice to learn t...\n",
       "4  \"AI is making difference in this world now.  I..."
      ]
     },
     "execution_count": 17,
     "metadata": {},
     "output_type": "execute_result"
    }
   ],
   "source": [
    "df.head()"
   ]
  },
  {
   "cell_type": "code",
   "execution_count": 18,
   "metadata": {},
   "outputs": [],
   "source": [
    "df3=pd.DataFrame()"
   ]
  },
  {
   "cell_type": "code",
   "execution_count": 6,
   "metadata": {},
   "outputs": [],
   "source": [
    "#Tokenize the words in the sentences for the chunking"
   ]
  },
  {
   "cell_type": "code",
   "execution_count": 19,
   "metadata": {},
   "outputs": [],
   "source": [
    "df3['Token Comments'] = df.apply(lambda row: word_tokenize(row['Comment']), axis=1)"
   ]
  },
  {
   "cell_type": "code",
   "execution_count": 20,
   "metadata": {},
   "outputs": [
    {
     "data": {
      "text/html": [
       "<div>\n",
       "<style scoped>\n",
       "    .dataframe tbody tr th:only-of-type {\n",
       "        vertical-align: middle;\n",
       "    }\n",
       "\n",
       "    .dataframe tbody tr th {\n",
       "        vertical-align: top;\n",
       "    }\n",
       "\n",
       "    .dataframe thead th {\n",
       "        text-align: right;\n",
       "    }\n",
       "</style>\n",
       "<table border=\"1\" class=\"dataframe\">\n",
       "  <thead>\n",
       "    <tr style=\"text-align: right;\">\n",
       "      <th></th>\n",
       "      <th>Token Comments</th>\n",
       "    </tr>\n",
       "  </thead>\n",
       "  <tbody>\n",
       "    <tr>\n",
       "      <th>0</th>\n",
       "      <td>[``, Hello, there, ,, how, are, you, ?, Weathe...</td>\n",
       "    </tr>\n",
       "    <tr>\n",
       "      <th>1</th>\n",
       "      <td>[``, Hello, Mr., Raja, ,, how, are, you, ?, We...</td>\n",
       "    </tr>\n",
       "    <tr>\n",
       "      <th>2</th>\n",
       "      <td>[``, Hello, Mr., Raja, ,, how, are, you, ., We...</td>\n",
       "    </tr>\n",
       "    <tr>\n",
       "      <th>3</th>\n",
       "      <td>[``, NLP, is, great, technique, ., It, is, nic...</td>\n",
       "    </tr>\n",
       "    <tr>\n",
       "      <th>4</th>\n",
       "      <td>[``, AI, is, making, difference, in, this, wor...</td>\n",
       "    </tr>\n",
       "  </tbody>\n",
       "</table>\n",
       "</div>"
      ],
      "text/plain": [
       "                                      Token Comments\n",
       "0  [``, Hello, there, ,, how, are, you, ?, Weathe...\n",
       "1  [``, Hello, Mr., Raja, ,, how, are, you, ?, We...\n",
       "2  [``, Hello, Mr., Raja, ,, how, are, you, ., We...\n",
       "3  [``, NLP, is, great, technique, ., It, is, nic...\n",
       "4  [``, AI, is, making, difference, in, this, wor..."
      ]
     },
     "execution_count": 20,
     "metadata": {},
     "output_type": "execute_result"
    }
   ],
   "source": [
    "df3.head()"
   ]
  },
  {
   "cell_type": "code",
   "execution_count": 21,
   "metadata": {},
   "outputs": [],
   "source": [
    "df3.to_csv('data_out',index=False)"
   ]
  },
  {
   "cell_type": "code",
   "execution_count": 22,
   "metadata": {},
   "outputs": [
    {
     "name": "stderr",
     "output_type": "stream",
     "text": [
      "[nltk_data] Downloading package averaged_perceptron_tagger to\n",
      "[nltk_data]     C:\\Users\\rahes\\AppData\\Roaming\\nltk_data...\n",
      "[nltk_data]   Package averaged_perceptron_tagger is already up-to-\n",
      "[nltk_data]       date!\n"
     ]
    },
    {
     "data": {
      "text/plain": [
       "True"
      ]
     },
     "execution_count": 22,
     "metadata": {},
     "output_type": "execute_result"
    }
   ],
   "source": [
    "from nltk.chunk import ne_chunk\n",
    "from nltk.tokenize import word_tokenize\n",
    "from nltk.tag import pos_tag\n",
    "nltk.download('averaged_perceptron_tagger')"
   ]
  },
  {
   "cell_type": "code",
   "execution_count": 23,
   "metadata": {},
   "outputs": [
    {
     "name": "stderr",
     "output_type": "stream",
     "text": [
      "[nltk_data] Downloading package maxent_ne_chunker to\n",
      "[nltk_data]     C:\\Users\\rahes\\AppData\\Roaming\\nltk_data...\n",
      "[nltk_data]   Package maxent_ne_chunker is already up-to-date!\n",
      "[nltk_data] Downloading package words to\n",
      "[nltk_data]     C:\\Users\\rahes\\AppData\\Roaming\\nltk_data...\n",
      "[nltk_data]   Package words is already up-to-date!\n"
     ]
    },
    {
     "data": {
      "text/plain": [
       "True"
      ]
     },
     "execution_count": 23,
     "metadata": {},
     "output_type": "execute_result"
    }
   ],
   "source": [
    "nltk.download('maxent_ne_chunker')\n",
    "nltk.download('words')"
   ]
  },
  {
   "cell_type": "code",
   "execution_count": 24,
   "metadata": {},
   "outputs": [
    {
     "data": {
      "text/plain": [
       "0    [``, Hello, there, ,, how, are, you, ?, Weathe...\n",
       "1    [``, Hello, Mr., Raja, ,, how, are, you, ?, We...\n",
       "2    [``, Hello, Mr., Raja, ,, how, are, you, ., We...\n",
       "3    [``, NLP, is, great, technique, ., It, is, nic...\n",
       "4    [``, AI, is, making, difference, in, this, wor...\n",
       "Name: Token Comments, dtype: object"
      ]
     },
     "execution_count": 24,
     "metadata": {},
     "output_type": "execute_result"
    }
   ],
   "source": [
    "df3['Token Comments']"
   ]
  },
  {
   "cell_type": "code",
   "execution_count": 5,
   "metadata": {},
   "outputs": [],
   "source": [
    "#Make a list of the words in the sentences"
   ]
  },
  {
   "cell_type": "code",
   "execution_count": 25,
   "metadata": {},
   "outputs": [],
   "source": [
    "Complete_sentence=[]\n",
    "for each in df3['Token Comments']:\n",
    "    Complete_sentence=Complete_sentence+each"
   ]
  },
  {
   "cell_type": "code",
   "execution_count": 26,
   "metadata": {},
   "outputs": [
    {
     "data": {
      "text/plain": [
       "['``',\n",
       " 'Hello',\n",
       " 'there',\n",
       " ',',\n",
       " 'how',\n",
       " 'are',\n",
       " 'you',\n",
       " '?',\n",
       " 'Weather',\n",
       " 'is',\n",
       " 'awesome',\n",
       " '.',\n",
       " 'Its',\n",
       " 'raining',\n",
       " 'here',\n",
       " 'now',\n",
       " '.',\n",
       " \"''\",\n",
       " '``',\n",
       " 'Hello',\n",
       " 'Mr.',\n",
       " 'Raja',\n",
       " ',',\n",
       " 'how',\n",
       " 'are',\n",
       " 'you',\n",
       " '?',\n",
       " 'Weather',\n",
       " 'is',\n",
       " 'awesome',\n",
       " '.',\n",
       " 'Its',\n",
       " 'raining',\n",
       " 'here',\n",
       " 'now',\n",
       " '.',\n",
       " \"''\",\n",
       " '``',\n",
       " 'Hello',\n",
       " 'Mr.',\n",
       " 'Raja',\n",
       " ',',\n",
       " 'how',\n",
       " 'are',\n",
       " 'you',\n",
       " '.',\n",
       " 'Weather',\n",
       " 'is',\n",
       " 'bad',\n",
       " '.',\n",
       " 'Its',\n",
       " 'heavily',\n",
       " 'raining',\n",
       " 'here',\n",
       " 'now',\n",
       " '.',\n",
       " \"''\",\n",
       " '``',\n",
       " 'NLP',\n",
       " 'is',\n",
       " 'great',\n",
       " 'technique',\n",
       " '.',\n",
       " 'It',\n",
       " 'is',\n",
       " 'nice',\n",
       " 'to',\n",
       " 'learn',\n",
       " 'this',\n",
       " 'technique',\n",
       " '.',\n",
       " \"''\",\n",
       " '``',\n",
       " 'AI',\n",
       " 'is',\n",
       " 'making',\n",
       " 'difference',\n",
       " 'in',\n",
       " 'this',\n",
       " 'world',\n",
       " 'now',\n",
       " '.',\n",
       " 'It',\n",
       " 'would',\n",
       " 'be',\n",
       " 'helpful',\n",
       " 'for',\n",
       " 'betterment',\n",
       " 'of',\n",
       " 'human',\n",
       " 'life',\n",
       " '.',\n",
       " 'We',\n",
       " 'need',\n",
       " 'to',\n",
       " 'make',\n",
       " 'advantage',\n",
       " 'of',\n",
       " 'that',\n",
       " '.',\n",
       " \"''\"]"
      ]
     },
     "execution_count": 26,
     "metadata": {},
     "output_type": "execute_result"
    }
   ],
   "source": [
    "Complete_sentence"
   ]
  },
  {
   "cell_type": "code",
   "execution_count": 27,
   "metadata": {},
   "outputs": [],
   "source": [
    "import re"
   ]
  },
  {
   "cell_type": "code",
   "execution_count": 4,
   "metadata": {},
   "outputs": [],
   "source": [
    "#remove the unwanted charaters from the list and create a new one"
   ]
  },
  {
   "cell_type": "code",
   "execution_count": 43,
   "metadata": {},
   "outputs": [],
   "source": [
    "filtered_words=str([re.sub(r\"[^a-zA-Z0-9]+\",'', item) for item in Complete_sentence])[1:-1]"
   ]
  },
  {
   "cell_type": "code",
   "execution_count": 44,
   "metadata": {},
   "outputs": [
    {
     "data": {
      "text/plain": [
       "\"'', 'Hello', 'there', '', 'how', 'are', 'you', '', 'Weather', 'is', 'awesome', '', 'Its', 'raining', 'here', 'now', '', '', '', 'Hello', 'Mr', 'Raja', '', 'how', 'are', 'you', '', 'Weather', 'is', 'awesome', '', 'Its', 'raining', 'here', 'now', '', '', '', 'Hello', 'Mr', 'Raja', '', 'how', 'are', 'you', '', 'Weather', 'is', 'bad', '', 'Its', 'heavily', 'raining', 'here', 'now', '', '', '', 'NLP', 'is', 'great', 'technique', '', 'It', 'is', 'nice', 'to', 'learn', 'this', 'technique', '', '', '', 'AI', 'is', 'making', 'difference', 'in', 'this', 'world', 'now', '', 'It', 'would', 'be', 'helpful', 'for', 'betterment', 'of', 'human', 'life', '', 'We', 'need', 'to', 'make', 'advantage', 'of', 'that', '', ''\""
      ]
     },
     "execution_count": 44,
     "metadata": {},
     "output_type": "execute_result"
    }
   ],
   "source": [
    "filtered_words"
   ]
  },
  {
   "cell_type": "code",
   "execution_count": 3,
   "metadata": {},
   "outputs": [],
   "source": [
    "#Assign pos_tag for the words filtered from the sentences"
   ]
  },
  {
   "cell_type": "code",
   "execution_count": 45,
   "metadata": {},
   "outputs": [],
   "source": [
    "chunk_words = ne_chunk(pos_tag(word_tokenize(filtered_words)))"
   ]
  },
  {
   "cell_type": "code",
   "execution_count": 46,
   "metadata": {},
   "outputs": [
    {
     "name": "stdout",
     "output_type": "stream",
     "text": [
      "(S\n",
      "  ''/''\n",
      "  ,/,\n",
      "  'Hello/NNP\n",
      "  '/POS\n",
      "  ,/,\n",
      "  'there/EX\n",
      "  '/''\n",
      "  ,/,\n",
      "  ``/``\n",
      "  ,/,\n",
      "  'how/''\n",
      "  '/''\n",
      "  ,/,\n",
      "  'are/NNP\n",
      "  '/POS\n",
      "  ,/,\n",
      "  'you/NNP\n",
      "  '/POS\n",
      "  ,/,\n",
      "  ``/``\n",
      "  ,/,\n",
      "  'Weather/PRP\n",
      "  '/''\n",
      "  ,/,\n",
      "  'is/NNP\n",
      "  '/POS\n",
      "  ,/,\n",
      "  'awesome/NNP\n",
      "  '/POS\n",
      "  ,/,\n",
      "  ``/``\n",
      "  ,/,\n",
      "  'Its/''\n",
      "  '/''\n",
      "  ,/,\n",
      "  'raining/VBG\n",
      "  '/''\n",
      "  ,/,\n",
      "  'here/EX\n",
      "  '/''\n",
      "  ,/,\n",
      "  'now/NNP\n",
      "  '/POS\n",
      "  ,/,\n",
      "  ``/``\n",
      "  ,/,\n",
      "  ``/``\n",
      "  ,/,\n",
      "  ``/``\n",
      "  ,/,\n",
      "  'Hello/NNP\n",
      "  '/POS\n",
      "  ,/,\n",
      "  'Mr/NNP\n",
      "  '/POS\n",
      "  ,/,\n",
      "  'Raja/''\n",
      "  '/''\n",
      "  ,/,\n",
      "  ``/``\n",
      "  ,/,\n",
      "  'how/''\n",
      "  '/''\n",
      "  ,/,\n",
      "  'are/NNP\n",
      "  '/POS\n",
      "  ,/,\n",
      "  'you/NNP\n",
      "  '/POS\n",
      "  ,/,\n",
      "  ``/``\n",
      "  ,/,\n",
      "  'Weather/PRP\n",
      "  '/''\n",
      "  ,/,\n",
      "  'is/NNP\n",
      "  '/POS\n",
      "  ,/,\n",
      "  'awesome/NNP\n",
      "  '/POS\n",
      "  ,/,\n",
      "  ``/``\n",
      "  ,/,\n",
      "  'Its/''\n",
      "  '/''\n",
      "  ,/,\n",
      "  'raining/VBG\n",
      "  '/''\n",
      "  ,/,\n",
      "  'here/EX\n",
      "  '/''\n",
      "  ,/,\n",
      "  'now/NNP\n",
      "  '/POS\n",
      "  ,/,\n",
      "  ``/``\n",
      "  ,/,\n",
      "  ``/``\n",
      "  ,/,\n",
      "  ``/``\n",
      "  ,/,\n",
      "  'Hello/NNP\n",
      "  '/POS\n",
      "  ,/,\n",
      "  'Mr/NNP\n",
      "  '/POS\n",
      "  ,/,\n",
      "  'Raja/''\n",
      "  '/''\n",
      "  ,/,\n",
      "  ``/``\n",
      "  ,/,\n",
      "  'how/''\n",
      "  '/''\n",
      "  ,/,\n",
      "  'are/NNP\n",
      "  '/POS\n",
      "  ,/,\n",
      "  'you/NNP\n",
      "  '/POS\n",
      "  ,/,\n",
      "  ``/``\n",
      "  ,/,\n",
      "  'Weather/PRP\n",
      "  '/''\n",
      "  ,/,\n",
      "  'is/NNP\n",
      "  '/POS\n",
      "  ,/,\n",
      "  'bad/NNP\n",
      "  '/POS\n",
      "  ,/,\n",
      "  ``/``\n",
      "  ,/,\n",
      "  'Its/''\n",
      "  '/''\n",
      "  ,/,\n",
      "  'heavily/RB\n",
      "  '/POS\n",
      "  ,/,\n",
      "  'raining/VBG\n",
      "  '/''\n",
      "  ,/,\n",
      "  'here/EX\n",
      "  '/''\n",
      "  ,/,\n",
      "  'now/NNP\n",
      "  '/POS\n",
      "  ,/,\n",
      "  ``/``\n",
      "  ,/,\n",
      "  ``/``\n",
      "  ,/,\n",
      "  ``/``\n",
      "  ,/,\n",
      "  'NLP/''\n",
      "  '/''\n",
      "  ,/,\n",
      "  'is/NNP\n",
      "  '/POS\n",
      "  ,/,\n",
      "  'great/NNP\n",
      "  '/POS\n",
      "  ,/,\n",
      "  'technique/NNP\n",
      "  '/POS\n",
      "  ,/,\n",
      "  ``/``\n",
      "  ,/,\n",
      "  'It/''\n",
      "  '/''\n",
      "  ,/,\n",
      "  'is/NNP\n",
      "  '/POS\n",
      "  ,/,\n",
      "  'nice/NNP\n",
      "  '/POS\n",
      "  ,/,\n",
      "  'to/NNP\n",
      "  '/POS\n",
      "  ,/,\n",
      "  'learn/NNP\n",
      "  '/POS\n",
      "  ,/,\n",
      "  'this/NNP\n",
      "  '/POS\n",
      "  ,/,\n",
      "  'technique/NNP\n",
      "  '/POS\n",
      "  ,/,\n",
      "  ``/``\n",
      "  ,/,\n",
      "  ``/``\n",
      "  ,/,\n",
      "  ``/``\n",
      "  ,/,\n",
      "  'AI/''\n",
      "  '/''\n",
      "  ,/,\n",
      "  'is/NNP\n",
      "  '/POS\n",
      "  ,/,\n",
      "  'making/VBG\n",
      "  '/''\n",
      "  ,/,\n",
      "  'difference/NNP\n",
      "  '/POS\n",
      "  ,/,\n",
      "  'in/NNP\n",
      "  '/POS\n",
      "  ,/,\n",
      "  'this/NNP\n",
      "  '/POS\n",
      "  ,/,\n",
      "  'world/NNP\n",
      "  '/POS\n",
      "  ,/,\n",
      "  'now/NNP\n",
      "  '/POS\n",
      "  ,/,\n",
      "  ``/``\n",
      "  ,/,\n",
      "  'It/''\n",
      "  '/''\n",
      "  ,/,\n",
      "  'would/MD\n",
      "  '/''\n",
      "  ,/,\n",
      "  'be/NNP\n",
      "  '/POS\n",
      "  ,/,\n",
      "  'helpful/''\n",
      "  '/''\n",
      "  ,/,\n",
      "  'for/NNP\n",
      "  '/POS\n",
      "  ,/,\n",
      "  'betterment/NNP\n",
      "  '/POS\n",
      "  ,/,\n",
      "  'of/NNP\n",
      "  '/POS\n",
      "  ,/,\n",
      "  'human/NNP\n",
      "  '/POS\n",
      "  ,/,\n",
      "  'life/''\n",
      "  '/''\n",
      "  ,/,\n",
      "  ``/``\n",
      "  ,/,\n",
      "  'We/''\n",
      "  '/''\n",
      "  ,/,\n",
      "  'need/''\n",
      "  '/''\n",
      "  ,/,\n",
      "  'to/NNP\n",
      "  '/POS\n",
      "  ,/,\n",
      "  'make/NNP\n",
      "  '/POS\n",
      "  ,/,\n",
      "  'advantage/NN\n",
      "  '/''\n",
      "  ,/,\n",
      "  'of/NNP\n",
      "  '/POS\n",
      "  ,/,\n",
      "  'that/WP\n",
      "  '/''\n",
      "  ,/,\n",
      "  ``/``\n",
      "  ,/,\n",
      "  ``/``)\n"
     ]
    }
   ],
   "source": [
    "print(chunk_words)"
   ]
  },
  {
   "cell_type": "code",
   "execution_count": 7,
   "metadata": {},
   "outputs": [],
   "source": [
    "#Draw the tree diagram for the pos_tags "
   ]
  },
  {
   "cell_type": "code",
   "execution_count": 47,
   "metadata": {},
   "outputs": [],
   "source": [
    "chunk_words.draw()"
   ]
  }
 ],
 "metadata": {
  "kernelspec": {
   "display_name": "Python 3",
   "language": "python",
   "name": "python3"
  },
  "language_info": {
   "codemirror_mode": {
    "name": "ipython",
    "version": 3
   },
   "file_extension": ".py",
   "mimetype": "text/x-python",
   "name": "python",
   "nbconvert_exporter": "python",
   "pygments_lexer": "ipython3",
   "version": "3.7.3"
  }
 },
 "nbformat": 4,
 "nbformat_minor": 2
}
